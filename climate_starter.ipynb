{
 "cells": [
  {
   "cell_type": "code",
   "execution_count": 11,
   "metadata": {},
   "outputs": [],
   "source": [
    "%matplotlib inline\n",
    "from matplotlib import style\n",
    "style.use('fivethirtyeight')\n",
    "import matplotlib.pyplot as plt"
   ]
  },
  {
   "cell_type": "code",
   "execution_count": 12,
   "metadata": {},
   "outputs": [],
   "source": [
    "import numpy as np\n",
    "import pandas as pd"
   ]
  },
  {
   "cell_type": "code",
   "execution_count": 13,
   "metadata": {},
   "outputs": [],
   "source": [
    "import datetime as dt"
   ]
  },
  {
   "cell_type": "markdown",
   "metadata": {},
   "source": [
    "# Reflect Tables into SQLAlchemy ORM"
   ]
  },
  {
   "cell_type": "code",
   "execution_count": 14,
   "metadata": {},
   "outputs": [],
   "source": [
    "# Python SQL toolkit and Object Relational Mapper\n",
    "import sqlalchemy\n",
    "from sqlalchemy.ext.automap import automap_base\n",
    "from sqlalchemy.orm import Session\n",
    "from sqlalchemy import create_engine, func"
   ]
  },
  {
   "cell_type": "code",
   "execution_count": 17,
   "metadata": {},
   "outputs": [],
   "source": [
    "engine = create_engine(\"sqlite:///Resources/hawaii.sqlite\")"
   ]
  },
  {
   "cell_type": "code",
   "execution_count": 18,
   "metadata": {},
   "outputs": [],
   "source": [
    "# reflect an existing database into a new model\n",
    "Base = automap_base()\n",
    "# reflect the tables\n",
    "Base.prepare(engine, reflect=True)\n"
   ]
  },
  {
   "cell_type": "code",
   "execution_count": 19,
   "metadata": {},
   "outputs": [
    {
     "data": {
      "text/plain": [
       "['measurement', 'station']"
      ]
     },
     "execution_count": 19,
     "metadata": {},
     "output_type": "execute_result"
    }
   ],
   "source": [
    "# We can view all of the classes that automap found\n",
    "Base.classes.keys()"
   ]
  },
  {
   "cell_type": "code",
   "execution_count": 20,
   "metadata": {},
   "outputs": [],
   "source": [
    "# Save references to each table\n",
    "Station = Base.classes.station\n",
    "Measurement = Base.classes.measurement"
   ]
  },
  {
   "cell_type": "code",
   "execution_count": 21,
   "metadata": {},
   "outputs": [],
   "source": [
    "# Create our session (link) from Python to the DB\n",
    "session = Session(engine)"
   ]
  },
  {
   "cell_type": "markdown",
   "metadata": {},
   "source": [
    "# Exploratory Climate Analysis"
   ]
  },
  {
   "cell_type": "code",
   "execution_count": 48,
   "metadata": {},
   "outputs": [
    {
     "name": "stdout",
     "output_type": "stream",
     "text": [
      "('2010-01-01', 0.08)\n",
      "('2010-01-02', 0.0)\n",
      "('2010-01-03', 0.0)\n",
      "('2010-01-04', 0.0)\n",
      "('2010-01-06', None)\n",
      "('2010-01-07', 0.06)\n",
      "('2010-01-08', 0.0)\n",
      "('2010-01-09', 0.0)\n",
      "('2010-01-10', 0.0)\n",
      "('2010-01-11', 0.01)\n",
      "('2010-01-12', 0.0)\n",
      "('2010-01-14', 0.0)\n",
      "('2010-01-15', 0.0)\n",
      "('2010-01-16', 0.0)\n",
      "('2010-01-17', 0.0)\n",
      "('2010-01-18', 0.0)\n",
      "('2010-01-19', 0.0)\n",
      "('2010-01-20', 0.0)\n",
      "('2010-01-21', 0.0)\n",
      "('2010-01-22', 0.0)\n",
      "('2010-01-23', 0.0)\n",
      "('2010-01-24', 0.01)\n",
      "('2010-01-25', 0.0)\n",
      "('2010-01-26', 0.04)\n",
      "('2010-01-27', 0.12)\n",
      "('2010-01-28', 0.0)\n",
      "('2010-01-30', None)\n",
      "('2010-01-31', 0.03)\n",
      "('2010-02-01', 0.01)\n",
      "('2010-02-03', None)\n",
      "('2010-02-04', 0.01)\n",
      "('2010-02-05', 0.0)\n",
      "('2010-02-06', 0.0)\n",
      "('2010-02-07', 0.0)\n",
      "('2010-02-08', 0.0)\n",
      "('2010-02-09', 0.0)\n",
      "('2010-02-11', 0.0)\n",
      "('2010-02-12', 0.02)\n",
      "('2010-02-13', 0.01)\n",
      "('2010-02-14', 0.0)\n",
      "('2010-02-15', 0.0)\n",
      "('2010-02-16', 0.0)\n",
      "('2010-02-17', 0.0)\n",
      "('2010-02-19', None)\n",
      "('2010-02-20', 0.03)\n",
      "('2010-02-21', 0.0)\n",
      "('2010-02-22', 0.0)\n",
      "('2010-02-23', 0.0)\n",
      "('2010-02-24', 0.0)\n",
      "('2010-02-25', 0.0)\n",
      "('2010-02-26', 0.0)\n",
      "('2010-02-28', 0.0)\n",
      "('2010-03-01', 0.01)\n",
      "('2010-03-02', 0.0)\n",
      "('2010-03-03', 0.0)\n",
      "('2010-03-04', 0.12)\n",
      "('2010-03-05', 0.08)\n",
      "('2010-03-06', 0.03)\n",
      "('2010-03-07', 0.0)\n",
      "('2010-03-08', 0.43)\n",
      "('2010-03-09', 0.06)\n",
      "('2010-03-11', None)\n",
      "('2010-03-12', 0.0)\n",
      "('2010-03-13', 0.0)\n",
      "('2010-03-14', 0.0)\n",
      "('2010-03-15', 0.06)\n",
      "('2010-03-17', 0.0)\n",
      "('2010-03-18', 0.0)\n",
      "('2010-03-21', 0.0)\n",
      "('2010-03-22', 0.0)\n",
      "('2010-03-23', 0.0)\n",
      "('2010-03-24', 0.0)\n",
      "('2010-03-26', None)\n",
      "('2010-03-27', 0.0)\n",
      "('2010-03-28', 0.0)\n",
      "('2010-03-29', 0.0)\n",
      "('2010-03-30', 0.0)\n",
      "('2010-03-31', 0.0)\n",
      "('2010-04-01', 0.0)\n",
      "('2010-04-02', 0.01)\n",
      "('2010-04-03', 0.17)\n",
      "('2010-04-04', 0.15)\n",
      "('2010-04-05', 0.27)\n",
      "('2010-04-06', 0.01)\n",
      "('2010-04-08', 0.0)\n",
      "('2010-04-09', 0.01)\n",
      "('2010-04-10', 0.0)\n",
      "('2010-04-11', 0.01)\n",
      "('2010-04-12', 0.01)\n",
      "('2010-04-13', 0.0)\n",
      "('2010-04-15', 0.0)\n",
      "('2010-04-16', 0.01)\n",
      "('2010-04-17', 0.0)\n",
      "('2010-04-18', 0.0)\n",
      "('2010-04-19', 0.0)\n",
      "('2010-04-20', 0.04)\n",
      "('2010-04-21', 0.01)\n",
      "('2010-04-22', 0.0)\n",
      "('2010-04-23', 0.02)\n",
      "('2010-04-24', 0.0)\n",
      "('2010-04-25', 0.0)\n",
      "('2010-04-26', 0.0)\n",
      "('2010-04-28', 0.0)\n",
      "('2010-04-30', 0.0)\n",
      "('2010-05-01', 0.0)\n",
      "('2010-05-02', 0.03)\n",
      "('2010-05-03', 0.2)\n",
      "('2010-05-04', 0.08)\n",
      "('2010-05-05', 0.01)\n",
      "('2010-05-06', 0.0)\n",
      "('2010-05-07', 0.05)\n",
      "('2010-05-08', 0.0)\n",
      "('2010-05-09', 0.0)\n",
      "('2010-05-10', 0.0)\n",
      "('2010-05-11', 0.0)\n",
      "('2010-05-13', 0.0)\n",
      "('2010-05-14', 0.0)\n",
      "('2010-05-15', 0.0)\n",
      "('2010-05-16', 0.03)\n",
      "('2010-05-17', 0.0)\n",
      "('2010-05-18', 0.0)\n",
      "('2010-05-19', 0.0)\n",
      "('2010-05-21', None)\n",
      "('2010-05-22', 0.0)\n",
      "('2010-05-23', 0.05)\n",
      "('2010-05-24', 0.0)\n",
      "('2010-05-25', 0.0)\n",
      "('2010-05-26', 0.02)\n",
      "('2010-05-27', 0.0)\n",
      "('2010-05-28', 0.0)\n",
      "('2010-05-29', 0.0)\n",
      "('2010-05-30', 0.0)\n",
      "('2010-05-31', 0.0)\n",
      "('2010-06-01', 0.0)\n",
      "('2010-06-02', 0.01)\n",
      "('2010-06-03', 0.0)\n",
      "('2010-06-04', 0.0)\n",
      "('2010-06-05', 0.0)\n",
      "('2010-06-06', 0.0)\n",
      "('2010-06-07', 0.0)\n",
      "('2010-06-08', 0.0)\n",
      "('2010-06-09', 0.0)\n",
      "('2010-06-10', 0.0)\n",
      "('2010-06-11', 0.0)\n",
      "('2010-06-12', 0.0)\n",
      "('2010-06-13', 0.0)\n",
      "('2010-06-14', 0.0)\n",
      "('2010-06-15', 0.0)\n",
      "('2010-06-16', 0.0)\n",
      "('2010-06-17', 0.0)\n",
      "('2010-06-18', 0.0)\n",
      "('2010-06-19', 0.0)\n",
      "('2010-06-20', 0.0)\n",
      "('2010-06-21', 0.0)\n",
      "('2010-06-22', 0.0)\n",
      "('2010-06-23', 0.0)\n",
      "('2010-06-24', 0.0)\n",
      "('2010-06-25', 0.0)\n",
      "('2010-06-26', 0.02)\n",
      "('2010-06-27', 0.0)\n",
      "('2010-06-28', 0.0)\n",
      "('2010-06-29', 0.0)\n",
      "('2010-06-30', 0.0)\n",
      "('2010-07-01', 0.01)\n",
      "('2010-07-02', 0.05)\n",
      "('2010-07-03', 0.09)\n",
      "('2010-07-04', 0.05)\n",
      "('2010-07-05', 0.06)\n",
      "('2010-07-06', 0.08)\n",
      "('2010-07-07', 0.08)\n",
      "('2010-07-08', 0.03)\n",
      "('2010-07-09', 0.06)\n",
      "('2010-07-10', 0.09)\n",
      "('2010-07-11', 0.0)\n",
      "('2010-07-12', 0.0)\n",
      "('2010-07-13', 0.0)\n",
      "('2010-07-16', None)\n",
      "('2010-07-17', 0.02)\n",
      "('2010-07-18', 0.0)\n",
      "('2010-07-19', 0.04)\n",
      "('2010-07-21', 0.0)\n",
      "('2010-07-22', 0.0)\n",
      "('2010-07-24', 0.0)\n",
      "('2010-07-25', 0.0)\n",
      "('2010-07-26', 0.0)\n",
      "('2010-07-27', 0.0)\n",
      "('2010-07-28', 0.0)\n",
      "('2010-07-29', 0.0)\n",
      "('2010-07-30', 0.0)\n",
      "('2010-07-31', 0.02)\n",
      "('2010-08-01', 0.04)\n",
      "('2010-08-02', 0.01)\n",
      "('2010-08-03', 0.02)\n",
      "('2010-08-04', 0.07)\n",
      "('2010-08-05', 0.08)\n",
      "('2010-08-06', 0.03)\n",
      "('2010-08-07', 0.0)\n",
      "('2010-08-08', 0.0)\n",
      "('2010-08-09', 0.0)\n",
      "('2010-08-10', 0.0)\n",
      "('2010-08-11', 0.0)\n",
      "('2010-08-12', 0.0)\n",
      "('2010-08-13', 0.0)\n",
      "('2010-08-14', 0.0)\n",
      "('2010-08-15', 0.01)\n",
      "('2010-08-16', 0.0)\n",
      "('2010-08-17', 0.05)\n",
      "('2010-08-18', 0.0)\n",
      "('2010-08-19', 0.0)\n",
      "('2010-08-20', 0.0)\n",
      "('2010-08-21', 0.0)\n",
      "('2010-08-22', 0.0)\n",
      "('2010-08-23', 0.01)\n",
      "('2010-08-24', 0.0)\n",
      "('2010-08-25', 0.04)\n",
      "('2010-08-26', 0.03)\n",
      "('2010-08-27', 0.0)\n",
      "('2010-08-28', 0.04)\n",
      "('2010-08-29', 0.0)\n",
      "('2010-08-30', 0.0)\n",
      "('2010-08-31', 0.0)\n",
      "('2010-09-01', 0.0)\n",
      "('2010-09-02', 0.02)\n",
      "('2010-09-03', 0.04)\n",
      "('2010-09-04', 0.01)\n",
      "('2010-09-05', 0.0)\n",
      "('2010-09-06', 0.0)\n",
      "('2010-09-07', 0.06)\n",
      "('2010-09-08', 0.0)\n",
      "('2010-09-09', 0.0)\n",
      "('2010-09-10', 0.0)\n",
      "('2010-09-11', 0.05)\n",
      "('2010-09-12', 0.0)\n",
      "('2010-09-13', 0.0)\n",
      "('2010-09-14', 0.0)\n",
      "('2010-09-15', 0.0)\n",
      "('2010-09-16', 0.0)\n",
      "('2010-09-17', 0.0)\n",
      "('2010-09-19', 0.0)\n",
      "('2010-09-20', 0.0)\n",
      "('2010-09-21', 0.0)\n",
      "('2010-09-22', 0.04)\n",
      "('2010-09-23', 0.0)\n",
      "('2010-09-24', 0.0)\n",
      "('2010-09-25', 0.0)\n",
      "('2010-09-26', 0.0)\n",
      "('2010-09-27', 0.0)\n",
      "('2010-09-28', 0.0)\n",
      "('2010-09-29', 0.0)\n",
      "('2010-09-30', 0.57)\n",
      "('2010-10-01', 0.31)\n",
      "('2010-10-02', 0.03)\n",
      "('2010-10-03', 0.0)\n",
      "('2010-10-04', 0.06)\n",
      "('2010-10-05', 0.0)\n",
      "('2010-10-06', 0.0)\n",
      "('2010-10-07', 0.0)\n",
      "('2010-10-08', 0.0)\n",
      "('2010-10-09', 0.0)\n",
      "('2010-10-10', 0.0)\n",
      "('2010-10-11', 0.0)\n",
      "('2010-10-12', 0.0)\n",
      "('2010-10-13', 0.0)\n",
      "('2010-10-15', 0.0)\n",
      "('2010-10-16', 0.0)\n",
      "('2010-10-17', 0.0)\n",
      "('2010-10-18', 0.0)\n",
      "('2010-10-19', 0.07)\n",
      "('2010-10-20', 0.0)\n",
      "('2010-10-21', 0.0)\n",
      "('2010-10-22', 0.0)\n",
      "('2010-10-23', 0.0)\n",
      "('2010-10-24', 0.0)\n",
      "('2010-10-25', 0.0)\n",
      "('2010-10-26', 0.07)\n",
      "('2010-10-27', 0.05)\n",
      "('2010-10-28', 0.06)\n",
      "('2010-10-29', 0.03)\n",
      "('2010-10-30', 0.02)\n",
      "('2010-10-31', 0.0)\n",
      "('2010-11-01', 0.01)\n",
      "('2010-11-02', 0.01)\n",
      "('2010-11-04', None)\n",
      "('2010-11-05', 0.0)\n",
      "('2010-11-06', 0.0)\n",
      "('2010-11-07', 0.0)\n",
      "('2010-11-08', 0.0)\n",
      "('2010-11-09', 0.0)\n",
      "('2010-11-10', 0.23)\n",
      "('2010-11-11', 0.0)\n",
      "('2010-11-12', 0.0)\n",
      "('2010-11-13', 0.0)\n",
      "('2010-11-16', 0.0)\n",
      "('2010-11-17', 0.0)\n",
      "('2010-11-19', None)\n",
      "('2010-11-20', 0.03)\n",
      "('2010-11-21', 0.0)\n",
      "('2010-11-22', 0.0)\n",
      "('2010-11-23', 0.0)\n",
      "('2010-11-24', 0.0)\n",
      "('2010-11-25', 0.0)\n",
      "('2010-11-27', 0.0)\n",
      "('2010-11-28', 0.0)\n",
      "('2010-11-29', 0.0)\n",
      "('2010-11-30', 0.0)\n",
      "('2010-12-01', 0.04)\n",
      "('2010-12-03', 0.0)\n",
      "('2010-12-04', 0.0)\n",
      "('2010-12-06', 0.0)\n",
      "('2010-12-07', 0.0)\n",
      "('2010-12-08', 0.0)\n",
      "('2010-12-09', 0.0)\n",
      "('2010-12-10', 1.58)\n",
      "('2010-12-11', 0.77)\n",
      "('2010-12-12', 0.0)\n",
      "('2010-12-13', 0.0)\n",
      "('2010-12-14', 0.0)\n",
      "('2010-12-15', 0.0)\n",
      "('2010-12-16', 0.0)\n",
      "('2010-12-17', 0.0)\n",
      "('2010-12-18', 0.0)\n",
      "('2010-12-19', 1.4)\n",
      "('2010-12-23', 0.0)\n",
      "('2010-12-24', 0.0)\n",
      "('2010-12-26', None)\n",
      "('2010-12-27', 0.13)\n",
      "('2010-12-28', 0.55)\n",
      "('2010-12-29', 0.06)\n",
      "('2010-12-30', 0.01)\n",
      "('2010-12-31', 0.0)\n",
      "('2011-01-01', 0.0)\n",
      "('2011-01-02', 0.0)\n",
      "('2011-01-03', 0.0)\n",
      "('2011-01-04', 0.0)\n",
      "('2011-01-05', 0.0)\n",
      "('2011-01-06', 0.01)\n",
      "('2011-01-07', 0.0)\n",
      "('2011-01-08', 0.0)\n",
      "('2011-01-09', 0.0)\n",
      "('2011-01-10', 0.0)\n",
      "('2011-01-11', 0.09)\n",
      "('2011-01-13', None)\n",
      "('2011-01-14', 0.03)\n",
      "('2011-01-15', 0.0)\n",
      "('2011-01-16', 0.0)\n",
      "('2011-01-17', 0.0)\n",
      "('2011-01-18', 0.0)\n"
     ]
    },
    {
     "ename": "NameError",
     "evalue": "name 'Dow' is not defined",
     "output_type": "error",
     "traceback": [
      "\u001b[1;31m---------------------------------------------------------------------------\u001b[0m",
      "\u001b[1;31mNameError\u001b[0m                                 Traceback (most recent call last)",
      "\u001b[1;32m<ipython-input-48-dbea68fa63e5>\u001b[0m in \u001b[0;36m<module>\u001b[1;34m\u001b[0m\n\u001b[0;32m      5\u001b[0m \u001b[1;33m\u001b[0m\u001b[0m\n\u001b[0;32m      6\u001b[0m \u001b[1;31m# Perform a query to retrieve the data and precipitation scores\u001b[0m\u001b[1;33m\u001b[0m\u001b[1;33m\u001b[0m\u001b[1;33m\u001b[0m\u001b[0m\n\u001b[1;32m----> 7\u001b[1;33m \u001b[1;32mfor\u001b[0m \u001b[0mrow\u001b[0m \u001b[1;32min\u001b[0m \u001b[0msession\u001b[0m\u001b[1;33m.\u001b[0m\u001b[0mquery\u001b[0m\u001b[1;33m(\u001b[0m\u001b[0mMeasurement\u001b[0m\u001b[1;33m.\u001b[0m\u001b[0mprcp\u001b[0m\u001b[1;33m,\u001b[0m \u001b[0mDow\u001b[0m\u001b[1;33m.\u001b[0m\u001b[0mvolume\u001b[0m\u001b[1;33m)\u001b[0m\u001b[1;33m.\u001b[0m\u001b[0mlimit\u001b[0m\u001b[1;33m(\u001b[0m\u001b[1;36m15\u001b[0m\u001b[1;33m)\u001b[0m\u001b[1;33m.\u001b[0m\u001b[0mall\u001b[0m\u001b[1;33m(\u001b[0m\u001b[1;33m)\u001b[0m\u001b[1;33m:\u001b[0m\u001b[1;33m\u001b[0m\u001b[1;33m\u001b[0m\u001b[0m\n\u001b[0m\u001b[0;32m      8\u001b[0m     \u001b[0mprint\u001b[0m\u001b[1;33m(\u001b[0m\u001b[0mrow\u001b[0m\u001b[1;33m)\u001b[0m\u001b[1;33m\u001b[0m\u001b[1;33m\u001b[0m\u001b[0m\n\u001b[0;32m      9\u001b[0m \u001b[1;31m# Save the query results as a Pandas DataFrame and set the index to the date column\u001b[0m\u001b[1;33m\u001b[0m\u001b[1;33m\u001b[0m\u001b[1;33m\u001b[0m\u001b[0m\n",
      "\u001b[1;31mNameError\u001b[0m: name 'Dow' is not defined"
     ]
    }
   ],
   "source": [
    "# Design a query to retrieve the last 12 months of precipitation data and plot the results\n",
    "for row in session.query(Measurement.date, Measurement.prcp).limit(347).all():\n",
    "    print(row)\n",
    "# Calculate the date 1 year ago from the last data point in the database\n",
    "\n",
    "# Perform a query to retrieve the data and precipitation scores\n",
    "for row in session.query(Measurement.prcp, Dow.volume).limit(15).all():\n",
    "    print(row)\n",
    "# Save the query results as a Pandas DataFrame and set the index to the date column\n",
    "\n",
    "# Sort the dataframe by date\n",
    "\n",
    "# Use Pandas Plotting with Matplotlib to plot the data\n"
   ]
  },
  {
   "cell_type": "code",
   "execution_count": 44,
   "metadata": {},
   "outputs": [
    {
     "data": {
      "text/plain": [
       "('2017-08-23')"
      ]
     },
     "execution_count": 44,
     "metadata": {},
     "output_type": "execute_result"
    }
   ],
   "source": [
    "most_recent = session.query(func.max(Measurement.date)).first()\n",
    "most_recent"
   ]
  },
  {
   "cell_type": "code",
   "execution_count": 46,
   "metadata": {},
   "outputs": [
    {
     "data": {
      "text/plain": [
       "datetime.date(2016, 8, 23)"
      ]
     },
     "execution_count": 46,
     "metadata": {},
     "output_type": "execute_result"
    }
   ],
   "source": [
    "previous_year = dt.date(2017,8,23)-dt.timedelta(days=365)\n",
    "previous_year"
   ]
  },
  {
   "cell_type": "code",
   "execution_count": 47,
   "metadata": {},
   "outputs": [
    {
     "data": {
      "text/html": [
       "<div>\n",
       "<style scoped>\n",
       "    .dataframe tbody tr th:only-of-type {\n",
       "        vertical-align: middle;\n",
       "    }\n",
       "\n",
       "    .dataframe tbody tr th {\n",
       "        vertical-align: top;\n",
       "    }\n",
       "\n",
       "    .dataframe thead th {\n",
       "        text-align: right;\n",
       "    }\n",
       "</style>\n",
       "<table border=\"1\" class=\"dataframe\">\n",
       "  <thead>\n",
       "    <tr style=\"text-align: right;\">\n",
       "      <th></th>\n",
       "      <th>date</th>\n",
       "      <th>precipitation</th>\n",
       "    </tr>\n",
       "  </thead>\n",
       "  <tbody>\n",
       "    <tr>\n",
       "      <th>0</th>\n",
       "      <td>2016-08-23</td>\n",
       "      <td>0.00</td>\n",
       "    </tr>\n",
       "    <tr>\n",
       "      <th>1009</th>\n",
       "      <td>2016-08-23</td>\n",
       "      <td>NaN</td>\n",
       "    </tr>\n",
       "    <tr>\n",
       "      <th>1529</th>\n",
       "      <td>2016-08-23</td>\n",
       "      <td>1.79</td>\n",
       "    </tr>\n",
       "    <tr>\n",
       "      <th>704</th>\n",
       "      <td>2016-08-23</td>\n",
       "      <td>0.05</td>\n",
       "    </tr>\n",
       "    <tr>\n",
       "      <th>361</th>\n",
       "      <td>2016-08-23</td>\n",
       "      <td>0.15</td>\n",
       "    </tr>\n",
       "    <tr>\n",
       "      <th>...</th>\n",
       "      <td>...</td>\n",
       "      <td>...</td>\n",
       "    </tr>\n",
       "    <tr>\n",
       "      <th>1527</th>\n",
       "      <td>2017-08-22</td>\n",
       "      <td>0.00</td>\n",
       "    </tr>\n",
       "    <tr>\n",
       "      <th>1008</th>\n",
       "      <td>2017-08-23</td>\n",
       "      <td>0.00</td>\n",
       "    </tr>\n",
       "    <tr>\n",
       "      <th>360</th>\n",
       "      <td>2017-08-23</td>\n",
       "      <td>0.00</td>\n",
       "    </tr>\n",
       "    <tr>\n",
       "      <th>1528</th>\n",
       "      <td>2017-08-23</td>\n",
       "      <td>0.08</td>\n",
       "    </tr>\n",
       "    <tr>\n",
       "      <th>2229</th>\n",
       "      <td>2017-08-23</td>\n",
       "      <td>0.45</td>\n",
       "    </tr>\n",
       "  </tbody>\n",
       "</table>\n",
       "<p>2230 rows × 2 columns</p>\n",
       "</div>"
      ],
      "text/plain": [
       "            date  precipitation\n",
       "0     2016-08-23           0.00\n",
       "1009  2016-08-23            NaN\n",
       "1529  2016-08-23           1.79\n",
       "704   2016-08-23           0.05\n",
       "361   2016-08-23           0.15\n",
       "...          ...            ...\n",
       "1527  2017-08-22           0.00\n",
       "1008  2017-08-23           0.00\n",
       "360   2017-08-23           0.00\n",
       "1528  2017-08-23           0.08\n",
       "2229  2017-08-23           0.45\n",
       "\n",
       "[2230 rows x 2 columns]"
      ]
     },
     "execution_count": 47,
     "metadata": {},
     "output_type": "execute_result"
    }
   ],
   "source": [
    "last_year = session.query(Measurement.date,Measurement.prcp).filter(Measurement.date>=previous_year).all()\n",
    "ly_df = pd.DataFrame(last_year,columns=['date','precipitation'])\n",
    "ly_df.sort_values(\"date\",inplace = True)\n",
    "ly_df"
   ]
  },
  {
   "cell_type": "code",
   "execution_count": 52,
   "metadata": {},
   "outputs": [
    {
     "data": {
      "text/plain": [
       "Text(0.5, 1.0, 'Previous Year Precipitation in Hawaii')"
      ]
     },
     "execution_count": 52,
     "metadata": {},
     "output_type": "execute_result"
    },
    {
     "data": {
      "image/png": "[encoded data removed]",
      "text/plain": [
       "<Figure size 432x288 with 1 Axes>"
      ]
     },
     "metadata": {},
     "output_type": "display_data"
    }
   ],
   "source": [
    "ly_df.plot(x=\"date\",y=\"precipitation\",rot=45)\n",
    "plt.ylabel(\"Inches\")\n",
    "plt.title(\"Previous Year Precipitation in Hawaii\")"
   ]
  },
  {
   "cell_type": "code",
   "execution_count": 54,
   "metadata": {},
   "outputs": [
    {
     "data": {
      "text/html": [
       "<div>\n",
       "<style scoped>\n",
       "    .dataframe tbody tr th:only-of-type {\n",
       "        vertical-align: middle;\n",
       "    }\n",
       "\n",
       "    .dataframe tbody tr th {\n",
       "        vertical-align: top;\n",
       "    }\n",
       "\n",
       "    .dataframe thead th {\n",
       "        text-align: right;\n",
       "    }\n",
       "</style>\n",
       "<table border=\"1\" class=\"dataframe\">\n",
       "  <thead>\n",
       "    <tr style=\"text-align: right;\">\n",
       "      <th></th>\n",
       "      <th>precipitation</th>\n",
       "    </tr>\n",
       "  </thead>\n",
       "  <tbody>\n",
       "    <tr>\n",
       "      <th>count</th>\n",
       "      <td>2021.000000</td>\n",
       "    </tr>\n",
       "    <tr>\n",
       "      <th>mean</th>\n",
       "      <td>0.177279</td>\n",
       "    </tr>\n",
       "    <tr>\n",
       "      <th>std</th>\n",
       "      <td>0.461190</td>\n",
       "    </tr>\n",
       "    <tr>\n",
       "      <th>min</th>\n",
       "      <td>0.000000</td>\n",
       "    </tr>\n",
       "    <tr>\n",
       "      <th>25%</th>\n",
       "      <td>0.000000</td>\n",
       "    </tr>\n",
       "    <tr>\n",
       "      <th>50%</th>\n",
       "      <td>0.020000</td>\n",
       "    </tr>\n",
       "    <tr>\n",
       "      <th>75%</th>\n",
       "      <td>0.130000</td>\n",
       "    </tr>\n",
       "    <tr>\n",
       "      <th>max</th>\n",
       "      <td>6.700000</td>\n",
       "    </tr>\n",
       "  </tbody>\n",
       "</table>\n",
       "</div>"
      ],
      "text/plain": [
       "       precipitation\n",
       "count    2021.000000\n",
       "mean        0.177279\n",
       "std         0.461190\n",
       "min         0.000000\n",
       "25%         0.000000\n",
       "50%         0.020000\n",
       "75%         0.130000\n",
       "max         6.700000"
      ]
     },
     "execution_count": 54,
     "metadata": {},
     "output_type": "execute_result"
    }
   ],
   "source": [
    "# Use Pandas to calcualte the summary statistics for the precipitation data\n",
    "ly_df.describe()"
   ]
  },
  {
   "cell_type": "code",
   "execution_count": 56,
   "metadata": {},
   "outputs": [
    {
     "data": {
      "text/plain": [
       "[(9)]"
      ]
     },
     "execution_count": 56,
     "metadata": {},
     "output_type": "execute_result"
    }
   ],
   "source": [
    "# Design a query to show how many stations are available in this dataset?\n",
    "station = session.query(func.count(Station.station)).all()\n",
    "station"
   ]
  },
  {
   "cell_type": "code",
   "execution_count": 57,
   "metadata": {},
   "outputs": [
    {
     "data": {
      "text/plain": [
       "[('USC00519281', 2772),\n",
       " ('USC00519397', 2724),\n",
       " ('USC00513117', 2709),\n",
       " ('USC00519523', 2669),\n",
       " ('USC00516128', 2612),\n",
       " ('USC00514830', 2202),\n",
       " ('USC00511918', 1979),\n",
       " ('USC00517948', 1372),\n",
       " ('USC00518838', 511)]"
      ]
     },
     "execution_count": 57,
     "metadata": {},
     "output_type": "execute_result"
    }
   ],
   "source": [
    "# What are the most active stations? (i.e. what stations have the most rows)?\n",
    "# List the stations and the counts in descending order.\n",
    "active = session.query(Measurement.station,func.count(Measurement.station)).group_by(Measurement.station).order_by(func.count(Measurement.station).desc()).all()\n",
    "active"
   ]
  },
  {
   "cell_type": "code",
   "execution_count": 58,
   "metadata": {},
   "outputs": [
    {
     "data": {
      "text/plain": [
       "[(54.0, 85.0, 71.66378066378067)]"
      ]
     },
     "execution_count": 58,
     "metadata": {},
     "output_type": "execute_result"
    }
   ],
   "source": [
    "# Using the station id from the previous query, calculate the lowest temperature recorded, \n",
    "# highest temperature recorded, and average temperature of the most active station?\n",
    "highest = session.query(func.min(Measurement.tobs),func.max(Measurement.tobs),func.avg(Measurement.tobs)).filter(Measurement.station==\"USC00519281\").all()\n",
    "highest"
   ]
  },
  {
   "cell_type": "code",
   "execution_count": 59,
   "metadata": {},
   "outputs": [
    {
     "data": {
      "text/html": [
       "<div>\n",
       "<style scoped>\n",
       "    .dataframe tbody tr th:only-of-type {\n",
       "        vertical-align: middle;\n",
       "    }\n",
       "\n",
       "    .dataframe tbody tr th {\n",
       "        vertical-align: top;\n",
       "    }\n",
       "\n",
       "    .dataframe thead th {\n",
       "        text-align: right;\n",
       "    }\n",
       "</style>\n",
       "<table border=\"1\" class=\"dataframe\">\n",
       "  <thead>\n",
       "    <tr style=\"text-align: right;\">\n",
       "      <th></th>\n",
       "      <th>tobs</th>\n",
       "    </tr>\n",
       "  </thead>\n",
       "  <tbody>\n",
       "    <tr>\n",
       "      <th>0</th>\n",
       "      <td>77.0</td>\n",
       "    </tr>\n",
       "    <tr>\n",
       "      <th>1</th>\n",
       "      <td>77.0</td>\n",
       "    </tr>\n",
       "    <tr>\n",
       "      <th>2</th>\n",
       "      <td>80.0</td>\n",
       "    </tr>\n",
       "    <tr>\n",
       "      <th>3</th>\n",
       "      <td>80.0</td>\n",
       "    </tr>\n",
       "    <tr>\n",
       "      <th>4</th>\n",
       "      <td>75.0</td>\n",
       "    </tr>\n",
       "    <tr>\n",
       "      <th>...</th>\n",
       "      <td>...</td>\n",
       "    </tr>\n",
       "    <tr>\n",
       "      <th>347</th>\n",
       "      <td>77.0</td>\n",
       "    </tr>\n",
       "    <tr>\n",
       "      <th>348</th>\n",
       "      <td>77.0</td>\n",
       "    </tr>\n",
       "    <tr>\n",
       "      <th>349</th>\n",
       "      <td>76.0</td>\n",
       "    </tr>\n",
       "    <tr>\n",
       "      <th>350</th>\n",
       "      <td>76.0</td>\n",
       "    </tr>\n",
       "    <tr>\n",
       "      <th>351</th>\n",
       "      <td>79.0</td>\n",
       "    </tr>\n",
       "  </tbody>\n",
       "</table>\n",
       "<p>352 rows × 1 columns</p>\n",
       "</div>"
      ],
      "text/plain": [
       "     tobs\n",
       "0    77.0\n",
       "1    77.0\n",
       "2    80.0\n",
       "3    80.0\n",
       "4    75.0\n",
       "..    ...\n",
       "347  77.0\n",
       "348  77.0\n",
       "349  76.0\n",
       "350  76.0\n",
       "351  79.0\n",
       "\n",
       "[352 rows x 1 columns]"
      ]
     },
     "execution_count": 59,
     "metadata": {},
     "output_type": "execute_result"
    }
   ],
   "source": [
    "# Choose the station with the highest number of temperature observations.\n",
    "# Query the last 12 months of temperature observation data for this station and plot the results as a histogram\n",
    "highest_temp = session.query(Measurement.tobs).filter(Measurement.station == \"USC00519281\").filter(Measurement.date >= previous_year).all()\n",
    "h_t = pd.DataFrame(highest_temp,columns = ['tobs'])\n",
    "h_t"
   ]
  },
  {
   "cell_type": "code",
   "execution_count": 62,
   "metadata": {},
   "outputs": [
    {
     "data": {
      "text/plain": [
       "Text(0.5, 1.0, 'All Temp For Most Active Station From Previous Year')"
      ]
     },
     "execution_count": 62,
     "metadata": {},
     "output_type": "execute_result"
    },
    {
     "data": {
      "image/png": "[encoded data removed]",
      "text/plain": [
       "<Figure size 432x288 with 1 Axes>"
      ]
     },
     "metadata": {},
     "output_type": "display_data"
    }
   ],
   "source": [
    "h_t.plot.hist(bins = 12)\n",
    "plt.xlabel(\"Tobs\")\n",
    "plt.title(\"All Temp For Most Active Station From Previous Year\")"
   ]
  },
  {
   "cell_type": "markdown",
   "metadata": {},
   "source": [
    "## Bonus Challenge Assignment"
   ]
  },
  {
   "cell_type": "code",
   "execution_count": 63,
   "metadata": {},
   "outputs": [
    {
     "name": "stdout",
     "output_type": "stream",
     "text": [
      "[(62.0, 69.57142857142857, 74.0)]\n"
     ]
    }
   ],
   "source": [
    "# This function called `calc_temps` will accept start date and end date in the format '%Y-%m-%d' \n",
    "# and return the minimum, average, and maximum temperatures for that range of dates\n",
    "def calc_temps(start_date, end_date):\n",
    "    \"\"\"TMIN, TAVG, and TMAX for a list of dates.\n",
    "    \n",
    "    Args:\n",
    "        start_date (string): A date string in the format %Y-%m-%d\n",
    "        end_date (string): A date string in the format %Y-%m-%d\n",
    "        \n",
    "    Returns:\n",
    "        TMIN, TAVE, and TMAX\n",
    "    \"\"\"\n",
    "    \n",
    "    return session.query(func.min(Measurement.tobs), func.avg(Measurement.tobs), func.max(Measurement.tobs)).\\\n",
    "        filter(Measurement.date >= start_date).filter(Measurement.date <= end_date).all()\n",
    "\n",
    "# function usage example\n",
    "print(calc_temps('2012-02-28', '2012-03-05'))"
   ]
  },
  {
   "cell_type": "code",
   "execution_count": 64,
   "metadata": {},
   "outputs": [
    {
     "name": "stdout",
     "output_type": "stream",
     "text": [
      "58.0 74.59058295964125 87.0\n"
     ]
    }
   ],
   "source": [
    "# Use your previous function `calc_temps` to calculate the tmin, tavg, and tmax \n",
    "# for your trip using the previous year's data for those same dates.\n",
    "lowest, avg, most = calc_temps(\"2016-08-23\",\"2017-08-23\")[0]\n",
    "print (lowest, avg, most)"
   ]
  },
  {
   "cell_type": "code",
   "execution_count": 67,
   "metadata": {
    "scrolled": true
   },
   "outputs": [
    {
     "name": "stderr",
     "output_type": "stream",
     "text": [
      "<ipython-input-67-12418fc3b581>:9: UserWarning: Matplotlib is currently using module://ipykernel.pylab.backend_inline, which is a non-GUI backend, so cannot show the figure.\n",
      "  fig.show()\n"
     ]
    },
    {
     "data": {
      "image/png": "[encoded data removed]",
      "text/plain": [
       "<Figure size 432x288 with 1 Axes>"
      ]
     },
     "metadata": {},
     "output_type": "display_data"
    }
   ],
   "source": [
    "# Plot the results from your previous query as a bar chart. \n",
    "# Use \"Trip Avg Temp\" as your Title\n",
    "# Use the average temperature for the y value\n",
    "# Use the peak-to-peak (tmax-tmin) value as the y error bar (yerr)\n",
    "fig, ax=plt.subplots()\n",
    "yerr = most-lowest \n",
    "bar = ax.bar(1,most,yerr=yerr,align=\"center\")\n",
    "#ax.set(xticks=range())\n",
    "fig.show()"
   ]
  },
  {
   "cell_type": "code",
   "execution_count": 70,
   "metadata": {},
   "outputs": [
    {
     "data": {
      "text/plain": [
       "[('USC00516128',\n",
       "  'MANOA LYON ARBO 785.2, HI US',\n",
       "  21.3331,\n",
       "  -157.8025,\n",
       "  152.4,\n",
       "  147.81000000000006),\n",
       " ('USC00519281',\n",
       "  'WAIHEE 837.5, HI US',\n",
       "  21.45167,\n",
       "  -157.84888999999998,\n",
       "  32.9,\n",
       "  70.03000000000003),\n",
       " ('USC00513117',\n",
       "  'KANEOHE 838.1, HI US',\n",
       "  21.4234,\n",
       "  -157.8015,\n",
       "  14.6,\n",
       "  48.510000000000026),\n",
       " ('USC00519523',\n",
       "  'WAIMANALO EXPERIMENTAL FARM, HI US',\n",
       "  21.33556,\n",
       "  -157.71139,\n",
       "  19.5,\n",
       "  38.01),\n",
       " ('USC00514830',\n",
       "  'KUALOA RANCH HEADQUARTERS 886.9, HI US',\n",
       "  21.5213,\n",
       "  -157.8374,\n",
       "  7.0,\n",
       "  33.239999999999995),\n",
       " ('USC00519397',\n",
       "  'WAIKIKI 717.2, HI US',\n",
       "  21.2716,\n",
       "  -157.8168,\n",
       "  3.0,\n",
       "  16.089999999999986),\n",
       " ('USC00517948', 'PEARL CITY, HI US', 21.3934, -157.9751, 11.9, 4.59)]"
      ]
     },
     "execution_count": 70,
     "metadata": {},
     "output_type": "execute_result"
    }
   ],
   "source": [
    "# Calculate the total amount of rainfall per weather station for your trip dates using the previous year's matching dates.\n",
    "# Sort this in descending order by precipitation amount and list the station, name, latitude, longitude, and elevation\n",
    "rainfall = session.query(Station.station,Station.name,Station.latitude,Station.longitude,Station.elevation,func.sum(Measurement.prcp)).\\\n",
    "                         filter(Measurement.station==Station.station).filter(Measurement.date >= \"2016-08-23\").filter(Measurement.date <= \"2017-08-23\").\\\n",
    "                         group_by(Station.name).order_by(func.sum(Measurement.prcp).desc()).all()\n",
    "rainfall\n",
    "    \n"
   ]
  },
  {
   "cell_type": "code",
   "execution_count": null,
   "metadata": {},
   "outputs": [],
   "source": [
    "# Create a query that will calculate the daily normals \n",
    "# (i.e. the averages for tmin, tmax, and tavg for all historic data matching a specific month and day)\n",
    "\n",
    "def daily_normals(date):\n",
    "    \"\"\"Daily Normals.\n",
    "    \n",
    "    Args:\n",
    "        date (str): A date string in the format '%m-%d'\n",
    "        \n",
    "    Returns:\n",
    "        A list of tuples containing the daily normals, tmin, tavg, and tmax\n",
    "    \n",
    "    \"\"\"\n",
    "    \n",
    "    sel = [func.min(Measurement.tobs), func.avg(Measurement.tobs), func.max(Measurement.tobs)]\n",
    "    return session.query(*sel).filter(func.strftime(\"%m-%d\", Measurement.date) == date).all()\n",
    "    \n",
    "daily_normals(\"01-01\")"
   ]
  },
  {
   "cell_type": "code",
   "execution_count": null,
   "metadata": {},
   "outputs": [],
   "source": [
    "# calculate the daily normals for your trip\n",
    "# push each tuple of calculations into a list called `normals`\n",
    "\n",
    "# Set the start and end date of the trip\n",
    "\n",
    "# Use the start and end date to create a range of dates\n",
    "\n",
    "# Stip off the year and save a list of %m-%d strings\n",
    "\n",
    "# Loop through the list of %m-%d strings and calculate the normals for each date\n"
   ]
  },
  {
   "cell_type": "code",
   "execution_count": null,
   "metadata": {},
   "outputs": [],
   "source": [
    "# Load the previous query results into a Pandas DataFrame and add the `trip_dates` range as the `date` index\n"
   ]
  },
  {
   "cell_type": "code",
   "execution_count": null,
   "metadata": {},
   "outputs": [],
   "source": [
    "# Plot the daily normals as an area plot with `stacked=False`\n"
   ]
  },
  {
   "cell_type": "code",
   "execution_count": 3,
   "metadata": {},
   "outputs": [],
   "source": [
    "#Step 2 - Climate App"
   ]
  },
  {
   "cell_type": "code",
   "execution_count": 4,
   "metadata": {},
   "outputs": [],
   "source": [
    "from flask import Flask, jsonify"
   ]
  },
  {
   "cell_type": "code",
   "execution_count": null,
   "metadata": {},
   "outputs": [],
   "source": [
    "app = Flask(_name_)"
   ]
  },
  {
   "cell_type": "code",
   "execution_count": null,
   "metadata": {},
   "outputs": [],
   "source": [
    "@app.route(\"/\")\n",
    "def welcome():\n",
    "    return(\n",
    "    f\"/api/v1.0/precipitation\"\n",
    "    f\"/api/v1.0/stations\"\n",
    "    f\"/api/v1.0/tobs\"\n",
    "    f\"/api/v1.0/<start>\"\"\n",
    "    f\"/api/v1.0/<start>/<end>\"\n",
    "    )"
   ]
  },
  {
   "cell_type": "code",
   "execution_count": null,
   "metadata": {},
   "outputs": [],
   "source": [
    "@app.route(\"/api/v1.0/precipitation\")\n",
    "def precipitation():\n",
    "    results = session.query(Measurement.date,Measurement.prcp).all()\n",
    " all_precipitation = []\n",
    "    for date, prcp in results:\n",
    "        precipitation_dict = {}\n",
    "        precipitation_dict[\"date\"] = date\n",
    "        precipitation_dict[\"prcp\"] = prcp\n",
    "        all_precipitation.append(precipitation_dict)\n",
    "\n",
    "    return jsonify(all_precipitation)"
   ]
  },
  {
   "cell_type": "code",
   "execution_count": null,
   "metadata": {},
   "outputs": [],
   "source": [
    "@app.route(\"/api/v1.0/stations\")\n",
    "def stations():\n",
    "    station_list = session.query(func.count(Station.station)).all()\n",
    "    \n",
    "    return jsonify(station_list)"
   ]
  },
  {
   "cell_type": "code",
   "execution_count": null,
   "metadata": {},
   "outputs": [],
   "source": [
    "@app.route(\"/api/v1.0/tobs\")\n",
    "def tobs():\n",
    "    tob_templist = session.query(Measurement.tobs).filter(Measurement.station == \"USC00519281\").filter(Measurement.date >= previous_year).all()\n",
    "return jsonify(tob_templist)    "
   ]
  },
  {
   "cell_type": "code",
   "execution_count": null,
   "metadata": {},
   "outputs": [],
   "source": [
    "@app.route(\"/api/v1.0/<start>\")\n",
    "def start():\n",
    "    "
   ]
  },
  {
   "cell_type": "code",
   "execution_count": null,
   "metadata": {},
   "outputs": [],
   "source": [
    "@app.route(\"/api/v1.0/<start>/<end>\")\n",
    "def end():"
   ]
  }
 ],
 "metadata": {
  "kernel_info": {
   "name": "python3"
  },
  "kernelspec": {
   "display_name": "Python 3",
   "language": "python",
   "name": "python3"
  },
  "language_info": {
   "codemirror_mode": {
    "name": "ipython",
    "version": 3
   },
   "file_extension": ".py",
   "mimetype": "text/x-python",
   "name": "python",
   "nbconvert_exporter": "python",
   "pygments_lexer": "ipython3",
   "version": "3.8.5"
  },
  "nteract": {
   "version": "0.12.3"
  },
  "varInspector": {
   "cols": {
    "lenName": 16,
    "lenType": 16,
    "lenVar": 40
   },
   "kernels_config": {
    "python": {
     "delete_cmd_postfix": "",
     "delete_cmd_prefix": "del ",
     "library": "var_list.py",
     "varRefreshCmd": "print(var_dic_list())"
    },
    "r": {
     "delete_cmd_postfix": ") ",
     "delete_cmd_prefix": "rm(",
     "library": "var_list.r",
     "varRefreshCmd": "cat(var_dic_list()) "
    }
   },
   "types_to_exclude": [
    "module",
    "function",
    "builtin_function_or_method",
    "instance",
    "_Feature"
   ],
   "window_display": false
  }
 },
 "nbformat": 4,
 "nbformat_minor": 2
}
